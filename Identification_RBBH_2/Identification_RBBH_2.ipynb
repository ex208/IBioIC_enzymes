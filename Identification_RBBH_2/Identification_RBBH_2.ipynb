{
 "cells": [
  {
   "cell_type": "code",
   "execution_count": 1,
   "metadata": {
    "collapsed": false
   },
   "outputs": [
    {
     "name": "stdout",
     "output_type": "stream",
     "text": [
      "CSL_RW192.fasta             NCPPB_2538.fasta\r\n",
      "CSL_RW240.fasta             NCPPB_2976.fasta\r\n",
      "DW_0440.fasta               NCPPB_3274.fasta\r\n",
      "GBBC2039.fasta              NCPPB_3531.fasta\r\n",
      "GBBC2040.fasta              NCPPB_3532.fasta\r\n",
      "IPO_2222.fasta              NCPPB_3533.fasta\r\n",
      "IPO_980.fasta               NCPPB_3534.fasta\r\n",
      "Identification_RBBH_2.ipynb NCPPB_3537.fasta\r\n",
      "MK10.fasta                  NCPPB_402.fasta\r\n",
      "MK16.fasta                  NCPPB_453.fasta\r\n",
      "MK19.fasta                  NCPPB_516.fasta\r\n",
      "MK7.fasta                   NCPPB_569.fasta\r\n",
      "NCPPB_2511.fasta            NCPPB_898.fasta\r\n"
     ]
    }
   ],
   "source": [
    "#View the content of the folder where all Dickeya genomes are stored\n",
    "!ls"
   ]
  },
  {
   "cell_type": "code",
   "execution_count": 9,
   "metadata": {
    "collapsed": true
   },
   "outputs": [],
   "source": [
    "import subprocess"
   ]
  },
  {
   "cell_type": "code",
   "execution_count": null,
   "metadata": {
    "collapsed": false
   },
   "outputs": [],
   "source": [
    "import os\n",
    "for i in os.listdir(\"/Users/eirinixemantilotou/Documents/PhD/PhD_year1/Bioinformatics/Identifying_Dickeya_enzymes/Identification_RBBH_2\"):\n",
    "    if i.endswith(\".fasta\"):\n",
    "        cmd = \"makeblastdb -in %s -dbtype prot -title %s -out %s\" % (i,i,i)\n",
    "        cmd = cmd.split()\n",
    "        subprocess.call(cmd)"
   ]
  },
  {
   "cell_type": "code",
   "execution_count": 3,
   "metadata": {
    "collapsed": true
   },
   "outputs": [],
   "source": [
    "import os"
   ]
  },
  {
   "cell_type": "code",
   "execution_count": null,
   "metadata": {
    "collapsed": false
   },
   "outputs": [
    {
     "name": "stdout",
     "output_type": "stream",
     "text": [
      "['blastp', '-query', 'CSL_RW192.fasta', '-db', 'CSL_RW240.fasta', '-out', 'CSL_RW192_CSL_RW240.tab', '-outfmt', '7']\n",
      "['blastp', '-query', 'CSL_RW192.fasta', '-db', 'DW_0440.fasta', '-out', 'CSL_RW192_DW_0440.tab', '-outfmt', '7']\n",
      "['blastp', '-query', 'CSL_RW192.fasta', '-db', 'GBBC2039.fasta', '-out', 'CSL_RW192_GBBC2039.tab', '-outfmt', '7']\n",
      "['blastp', '-query', 'CSL_RW192.fasta', '-db', 'GBBC2040.fasta', '-out', 'CSL_RW192_GBBC2040.tab', '-outfmt', '7']\n",
      "['blastp', '-query', 'CSL_RW192.fasta', '-db', 'IPO_2222.fasta', '-out', 'CSL_RW192_IPO_2222.tab', '-outfmt', '7']\n",
      "['blastp', '-query', 'CSL_RW192.fasta', '-db', 'IPO_980.fasta', '-out', 'CSL_RW192_IPO_980.tab', '-outfmt', '7']\n",
      "['blastp', '-query', 'CSL_RW192.fasta', '-db', 'MK10.fasta', '-out', 'CSL_RW192_MK10.tab', '-outfmt', '7']\n",
      "['blastp', '-query', 'CSL_RW192.fasta', '-db', 'MK16.fasta', '-out', 'CSL_RW192_MK16.tab', '-outfmt', '7']\n",
      "['blastp', '-query', 'CSL_RW192.fasta', '-db', 'MK19.fasta', '-out', 'CSL_RW192_MK19.tab', '-outfmt', '7']\n",
      "['blastp', '-query', 'CSL_RW192.fasta', '-db', 'MK7.fasta', '-out', 'CSL_RW192_MK7.tab', '-outfmt', '7']\n",
      "['blastp', '-query', 'CSL_RW192.fasta', '-db', 'NCPPB_2511.fasta', '-out', 'CSL_RW192_NCPPB_2511.tab', '-outfmt', '7']\n",
      "['blastp', '-query', 'CSL_RW192.fasta', '-db', 'NCPPB_2538.fasta', '-out', 'CSL_RW192_NCPPB_2538.tab', '-outfmt', '7']\n",
      "['blastp', '-query', 'CSL_RW192.fasta', '-db', 'NCPPB_2976.fasta', '-out', 'CSL_RW192_NCPPB_2976.tab', '-outfmt', '7']\n",
      "['blastp', '-query', 'CSL_RW192.fasta', '-db', 'NCPPB_3274.fasta', '-out', 'CSL_RW192_NCPPB_3274.tab', '-outfmt', '7']\n",
      "['blastp', '-query', 'CSL_RW192.fasta', '-db', 'NCPPB_3531.fasta', '-out', 'CSL_RW192_NCPPB_3531.tab', '-outfmt', '7']\n",
      "['blastp', '-query', 'CSL_RW192.fasta', '-db', 'NCPPB_3532.fasta', '-out', 'CSL_RW192_NCPPB_3532.tab', '-outfmt', '7']\n",
      "['blastp', '-query', 'CSL_RW192.fasta', '-db', 'NCPPB_3533.fasta', '-out', 'CSL_RW192_NCPPB_3533.tab', '-outfmt', '7']\n",
      "['blastp', '-query', 'CSL_RW192.fasta', '-db', 'NCPPB_3534.fasta', '-out', 'CSL_RW192_NCPPB_3534.tab', '-outfmt', '7']\n",
      "['blastp', '-query', 'CSL_RW192.fasta', '-db', 'NCPPB_3537.fasta', '-out', 'CSL_RW192_NCPPB_3537.tab', '-outfmt', '7']\n",
      "['blastp', '-query', 'CSL_RW192.fasta', '-db', 'NCPPB_402.fasta', '-out', 'CSL_RW192_NCPPB_402.tab', '-outfmt', '7']\n",
      "['blastp', '-query', 'CSL_RW192.fasta', '-db', 'NCPPB_453.fasta', '-out', 'CSL_RW192_NCPPB_453.tab', '-outfmt', '7']\n",
      "['blastp', '-query', 'CSL_RW192.fasta', '-db', 'NCPPB_516.fasta', '-out', 'CSL_RW192_NCPPB_516.tab', '-outfmt', '7']\n",
      "['blastp', '-query', 'CSL_RW192.fasta', '-db', 'NCPPB_569.fasta', '-out', 'CSL_RW192_NCPPB_569.tab', '-outfmt', '7']\n",
      "['blastp', '-query', 'CSL_RW192.fasta', '-db', 'NCPPB_898.fasta', '-out', 'CSL_RW192_NCPPB_898.tab', '-outfmt', '7']\n",
      "['blastp', '-query', 'CSL_RW240.fasta', '-db', 'CSL_RW192.fasta', '-out', 'CSL_RW240_CSL_RW192.tab', '-outfmt', '7']\n",
      "['blastp', '-query', 'CSL_RW240.fasta', '-db', 'DW_0440.fasta', '-out', 'CSL_RW240_DW_0440.tab', '-outfmt', '7']\n",
      "['blastp', '-query', 'CSL_RW240.fasta', '-db', 'GBBC2039.fasta', '-out', 'CSL_RW240_GBBC2039.tab', '-outfmt', '7']\n",
      "['blastp', '-query', 'CSL_RW240.fasta', '-db', 'GBBC2040.fasta', '-out', 'CSL_RW240_GBBC2040.tab', '-outfmt', '7']\n",
      "['blastp', '-query', 'CSL_RW240.fasta', '-db', 'IPO_2222.fasta', '-out', 'CSL_RW240_IPO_2222.tab', '-outfmt', '7']\n",
      "['blastp', '-query', 'CSL_RW240.fasta', '-db', 'IPO_980.fasta', '-out', 'CSL_RW240_IPO_980.tab', '-outfmt', '7']\n",
      "['blastp', '-query', 'CSL_RW240.fasta', '-db', 'MK10.fasta', '-out', 'CSL_RW240_MK10.tab', '-outfmt', '7']\n",
      "['blastp', '-query', 'CSL_RW240.fasta', '-db', 'MK16.fasta', '-out', 'CSL_RW240_MK16.tab', '-outfmt', '7']\n",
      "['blastp', '-query', 'CSL_RW240.fasta', '-db', 'MK19.fasta', '-out', 'CSL_RW240_MK19.tab', '-outfmt', '7']\n",
      "['blastp', '-query', 'CSL_RW240.fasta', '-db', 'MK7.fasta', '-out', 'CSL_RW240_MK7.tab', '-outfmt', '7']\n",
      "['blastp', '-query', 'CSL_RW240.fasta', '-db', 'NCPPB_2511.fasta', '-out', 'CSL_RW240_NCPPB_2511.tab', '-outfmt', '7']\n",
      "['blastp', '-query', 'CSL_RW240.fasta', '-db', 'NCPPB_2538.fasta', '-out', 'CSL_RW240_NCPPB_2538.tab', '-outfmt', '7']\n",
      "['blastp', '-query', 'CSL_RW240.fasta', '-db', 'NCPPB_2976.fasta', '-out', 'CSL_RW240_NCPPB_2976.tab', '-outfmt', '7']\n",
      "['blastp', '-query', 'CSL_RW240.fasta', '-db', 'NCPPB_3274.fasta', '-out', 'CSL_RW240_NCPPB_3274.tab', '-outfmt', '7']\n",
      "['blastp', '-query', 'CSL_RW240.fasta', '-db', 'NCPPB_3531.fasta', '-out', 'CSL_RW240_NCPPB_3531.tab', '-outfmt', '7']\n",
      "['blastp', '-query', 'CSL_RW240.fasta', '-db', 'NCPPB_3532.fasta', '-out', 'CSL_RW240_NCPPB_3532.tab', '-outfmt', '7']\n",
      "['blastp', '-query', 'CSL_RW240.fasta', '-db', 'NCPPB_3533.fasta', '-out', 'CSL_RW240_NCPPB_3533.tab', '-outfmt', '7']\n",
      "['blastp', '-query', 'CSL_RW240.fasta', '-db', 'NCPPB_3534.fasta', '-out', 'CSL_RW240_NCPPB_3534.tab', '-outfmt', '7']"
     ]
    }
   ],
   "source": [
    " for i in os.listdir(\"/Users/eirinixemantilotou/Documents/PhD/PhD_year1/Bioinformatics/Identifying_Dickeya_enzymes/Identification_RBBH_2\"):\n",
    "    if i.endswith(\".fasta\"):\n",
    "        for j in os.listdir(\"/Users/eirinixemantilotou/Documents/PhD/PhD_year1/Bioinformatics/Identifying_Dickeya_enzymes/Identification_RBBH_2\"):\n",
    "            if j.endswith(\".fasta\"):\n",
    "                if i != j:\n",
    "                    cmd = \"blastp -query %s -db %s -out %s_%s.tab -outfmt 7\" %(i,j,i.split('.')[0],j.split('.')[0])\n",
    "                    cmd = cmd.split()\n",
    "                    print(cmd)\n",
    "                    subprocess.call(cmd)"
   ]
  },
  {
   "cell_type": "markdown",
   "metadata": {
    "collapsed": true
   },
   "source": [
    "I have not run above the code below this cell as I had to wiat for the blastp. It has run the command for a couple of queries but there are more to go! "
   ]
  },
  {
   "cell_type": "code",
   "execution_count": null,
   "metadata": {
    "collapsed": true
   },
   "outputs": [],
   "source": []
  },
  {
   "cell_type": "code",
   "execution_count": null,
   "metadata": {
    "collapsed": true
   },
   "outputs": [],
   "source": []
  },
  {
   "cell_type": "code",
   "execution_count": 24,
   "metadata": {
    "collapsed": true
   },
   "outputs": [],
   "source": [
    "import csv"
   ]
  },
  {
   "cell_type": "code",
   "execution_count": null,
   "metadata": {
    "collapsed": true
   },
   "outputs": [],
   "source": [
    "fn_fwd = \"blastp402_898_query_coverage.tab\" # forward search\n",
    "fn_rev = \"blastp898_402_query_coverage.tab\"  # reverse search"
   ]
  },
  {
   "cell_type": "code",
   "execution_count": null,
   "metadata": {
    "collapsed": true
   },
   "outputs": [],
   "source": [
    "# Read in forward data: query sequence name and target sequence\n",
    "# name only (for now) for the best match.\n",
    "# We define best match as the first match row for the query\n",
    "# sequence.\n",
    "def read_best_blast_hits(filename,pidthreshold,qcovsthreshold):\n",
    "    \"\"\"Read BLAST tab-separated output and return dictionary\n",
    "    of best hits as {query1:subject1, query2:subject2...}\"\"\"\n",
    "    results = {}  # empty dictionary holds results\n",
    "    with open(filename, 'r') as fh:\n",
    "        reader = csv.reader(fh, delimiter=\"\\t\")\n",
    "        for row in reader:\n",
    "            query_name = row[0]\n",
    "            sbjct_name = row[1]\n",
    "            pid = row[2]\n",
    "            qcovs =row[12]\n",
    "            # if query_name isn't in results dictionary, assume\n",
    "            # this line is the top hit\n",
    "            if query_name not in results:\n",
    "                if float(pid) >= pidthreshold:\n",
    "                    if float(qcovs)>= qcovsthreshold:\n",
    "                        results[query_name] = sbjct_name\n",
    "    return results"
   ]
  },
  {
   "cell_type": "code",
   "execution_count": null,
   "metadata": {
    "collapsed": true
   },
   "outputs": [],
   "source": [
    "# Get best hits in forward and reverse directions\n",
    "fwd = read_best_blast_hits(fn_fwd ,80 ,80)\n",
    "rev = read_best_blast_hits(fn_rev ,80 ,80)"
   ]
  },
  {
   "cell_type": "code",
   "execution_count": null,
   "metadata": {
    "collapsed": true
   },
   "outputs": [],
   "source": [
    "# Peek at results dictionaries\n",
    "print(list(fwd.items())[:5])\n",
    "print(list(rev.items())[:5])"
   ]
  },
  {
   "cell_type": "code",
   "execution_count": null,
   "metadata": {
    "collapsed": true
   },
   "outputs": [],
   "source": [
    "qf1 = fwd.keys()\n",
    "print(qf1) # query name"
   ]
  },
  {
   "cell_type": "code",
   "execution_count": null,
   "metadata": {
    "collapsed": true
   },
   "outputs": [],
   "source": [
    "# Identify reciprocal best hits from forward and reverse\n",
    "# best hit dictionaries\n",
    "def calculate_rbbh(fwd, rev):\n",
    "    \"\"\"Returns a list of (query, subject) tuples that are\n",
    "    reciprocal best hits, as defined from the passed pair\n",
    "    of dictionaries:\n",
    "    \n",
    "    - fwd - best hits in the forward direction\n",
    "    - rev - best hits in the reverse direction\n",
    "    \"\"\"\n",
    "    rbbh = []\n",
    "    for query_name in fwd.keys():\n",
    "        match = fwd[query_name]\n",
    "        if match in rev:\n",
    "            if rev[match] == query_name:\n",
    "                rbbh.append((query_name, fwd[query_name]))\n",
    "    return rbbh"
   ]
  },
  {
   "cell_type": "code",
   "execution_count": null,
   "metadata": {
    "collapsed": true
   },
   "outputs": [],
   "source": [
    "# RBBH in forward direction\n",
    "rbbh = calculate_rbbh(fwd, rev)\n",
    "print(len(rbbh))"
   ]
  },
  {
   "cell_type": "code",
   "execution_count": null,
   "metadata": {
    "collapsed": true
   },
   "outputs": [],
   "source": [
    "# RBBH in reverse direction (should be same as forward)\n",
    "rbbh_rev = calculate_rbbh(rev, fwd)\n",
    "print(len(rbbh_rev))"
   ]
  },
  {
   "cell_type": "code",
   "execution_count": null,
   "metadata": {
    "collapsed": true
   },
   "outputs": [],
   "source": [
    "print(rbbh[:5])\n",
    "print(rbbh_rev[:5]"
   ]
  },
  {
   "cell_type": "code",
   "execution_count": null,
   "metadata": {
    "collapsed": true
   },
   "outputs": [],
   "source": []
  },
  {
   "cell_type": "code",
   "execution_count": null,
   "metadata": {
    "collapsed": true
   },
   "outputs": [],
   "source": [
    "fwd = read_best_blast_hits(fn_fwd ,80 ,80)\n",
    "rev = read_best_blast_hits(fn_rev ,80 ,80)\n",
    "rbbh = calculate_rbbh(fwd, rev)"
   ]
  },
  {
   "cell_type": "code",
   "execution_count": null,
   "metadata": {
    "collapsed": true
   },
   "outputs": [],
   "source": [
    "print(len(rbbh))\n",
    "print(rbbh[:20])"
   ]
  }
 ],
 "metadata": {
  "kernelspec": {
   "display_name": "Python 3",
   "language": "python",
   "name": "python3"
  },
  "language_info": {
   "codemirror_mode": {
    "name": "ipython",
    "version": 3
   },
   "file_extension": ".py",
   "mimetype": "text/x-python",
   "name": "python",
   "nbconvert_exporter": "python",
   "pygments_lexer": "ipython3",
   "version": "3.5.1"
  }
 },
 "nbformat": 4,
 "nbformat_minor": 0
}
