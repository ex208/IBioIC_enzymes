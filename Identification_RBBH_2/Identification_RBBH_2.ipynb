{
 "cells": [
  {
   "cell_type": "markdown",
   "metadata": {},
   "source": [
    "## LP NOTES - comments/explanations in code\n",
    "\n",
    "1. It's good practice to intersperse the code in your notebook with text that explains what you're doing (or, even better, *why* you're doing it). That could start with a title/header/intro that gives a couple of sentences of background. You've done this to a degree with comments in the code itself - which is good - but the big advantage of iPython notebooks (other than their interactivity and usefulness for experimentatation), is the ability to mix code and text in a natural way. I learned from experience that it can be difficult to read your code in six months' time (or the next day, sometimes), so I encourage you to take advantage of extensive notewriting to help your future self!"
   ]
  },
  {
   "cell_type": "markdown",
   "metadata": {},
   "source": [
    "<div class=\"alert alert-error\">\n",
    "alert\n",
    "</div>"
   ]
  },
  {
   "cell_type": "code",
   "execution_count": null,
   "metadata": {
    "collapsed": false
   },
   "outputs": [],
   "source": [
    "#View the content of the folder where all Dickeya genomes are stored\n",
    "!ls"
   ]
  },
  {
   "cell_type": "markdown",
   "metadata": {},
   "source": [
    "## LP NOTES - `import` statements\n",
    "\n",
    "2. It's usual to put imports at the start of a module. You've got more flexibility in a notebook, but I find it handy (and readable) to keep all my imports together in a single cell. It can help to put a note or a comment line in there, as well.\n",
    "3. You only need to import each module once. In fact, issuing `import <module name>` won't do anything the second time you use it. It *is* possible to reload/reimport a module, but typically you don't need to."
   ]
  },
  {
   "cell_type": "code",
   "execution_count": null,
   "metadata": {
    "collapsed": true
   },
   "outputs": [],
   "source": [
    "import subprocess\n",
    "import os  # LP: added here to enable a demo below"
   ]
  },
  {
   "cell_type": "markdown",
   "metadata": {},
   "source": [
    "## LP NOTES - paths to files\n",
    "\n",
    "4. In the code below, you've supplied a *hardcoded* absolute path to the same file three times. This can lead to problems:\n",
    "    * even when copy/pasting, errors can creep in - one or more of those filenames can end up being incorrect, leading to bugs\n",
    "    * if you need to change the filename at any point, you have to update it in three places - it would be easier if you only had to do it once\n",
    "    * your absolute path is only ever likely to work on your machine, and if you don't move the directory/files - if you give this code to someone else (e.g. me ;) ) I can't run it. It would be more flexible and reproducible to use relative paths, with all necessary files available without reference to a unique absolute path from the root directory\n",
    "    * the location is a location, but there's no direct information on why we are using it - putting the path information into a variable allows you to name it informatively, improving readability of your code.\n",
    "These three options all do the same thing (on my machine):\n",
    "```\n",
    "# Hardcoded absolute path: will not work on your laptop, or if I move this directory\n",
    "files = os.listdir(\"/Users/lpritc/Documents/JHI_Work/IBioIC/GitHub/IBioIC_enzymes/Identification_RBBH_2\")\n",
    "```\n",
    "```\n",
    "# Relative path: will work on my laptop, your laptop, and anyone else's who clones the repository\n",
    "files = os.listdir(\".\")\n",
    "```\n",
    "```\n",
    "# Relative path with variable name: the relative path will work anywhere, but\n",
    "# using a variable means that you can define this in a single place and reuse it -\n",
    "# avoiding copy/paste errors and bugs due to forgetting to change it in your code.\n",
    "# Also, if the variable has a meaningful name, this can help readability of your\n",
    "# code, and remind you why you're interested in that location.\n",
    "dirname = \".\"\n",
    "files = os.listdir(dirname)\n",
    "```\n",
    "In this context, splitting out the path into a variable is *defensive* programming (defending *you* against bugs creeping in by accident), and it's a way of programming that is worth making a habit.\n",
    "5. The `i.endswith()` function works, but the `os.path.splitext()[-1]` alternative would be worth getting used to. It's more explicit (the `os.path` part implies you're dealing specifically with a file), and the function `os.path.splitext()` returns a tuple containing the filestem and the extension, which is often useful."
   ]
  },
  {
   "cell_type": "code",
   "execution_count": null,
   "metadata": {
    "collapsed": false
   },
   "outputs": [],
   "source": [
    "# LP: Demonstrating os.path.splitext()\n",
    "fname = \"CSL_RW192.fasta\"\n",
    "os.path.splitext(fname)"
   ]
  },
  {
   "cell_type": "code",
   "execution_count": null,
   "metadata": {
    "collapsed": false
   },
   "outputs": [],
   "source": [
    "import os\n",
    "for i in os.listdir(\"/Users/eirinixemantilotou/Documents/PhD/PhD_year1/Bioinformatics/Identifying_Dickeya_enzymes/Identification_RBBH_2\"):\n",
    "    if i.endswith(\".fasta\"):\n",
    "        cmd = \"makeblastdb -in %s -dbtype prot -title %s -out %s\" % (i,i,i)\n",
    "        cmd = cmd.split()\n",
    "        subprocess.call(cmd)"
   ]
  },
  {
   "cell_type": "code",
   "execution_count": null,
   "metadata": {
    "collapsed": true
   },
   "outputs": [],
   "source": [
    "# import os  # LP: this line won't do anything"
   ]
  },
  {
   "cell_type": "markdown",
   "metadata": {},
   "source": [
    "## LP NOTE: - coding style/conventions\n",
    "\n",
    "6. The PEP8 style guide suggests using spaces after commas, and around operators (e.g. `%`). Which do you find easier to read?\n",
    "    * `\"blastp -query %s -db %s -out %s_%s.tab -outfmt 7\" %(i,j,i.split('.')[0],j.split('.')[0])`\n",
    "    * `\"blastp -query %s -db %s -out %s_%s.tab -outfmt 7\" % (i, j, i.split('.')[0], j.split('.')[0])`"
   ]
  },
  {
   "cell_type": "code",
   "execution_count": null,
   "metadata": {
    "collapsed": false
   },
   "outputs": [],
   "source": [
    " for i in os.listdir(\"/Users/eirinixemantilotou/Documents/PhD/PhD_year1/Bioinformatics/Identifying_Dickeya_enzymes/Identification_RBBH_2\"):\n",
    "    if i.endswith(\".fasta\"):\n",
    "        for j in os.listdir(\"/Users/eirinixemantilotou/Documents/PhD/PhD_year1/Bioinformatics/Identifying_Dickeya_enzymes/Identification_RBBH_2\"):\n",
    "            if j.endswith(\".fasta\"):\n",
    "                if i != j:\n",
    "                    cmd = \"blastp -query %s -db %s -out %s_%s.tab -outfmt 7\" %(i,j,i.split('.')[0],j.split('.')[0])\n",
    "                    cmd = cmd.split()\n",
    "                    print(cmd)\n",
    "                    subprocess.call(cmd)"
   ]
  },
  {
   "cell_type": "markdown",
   "metadata": {
    "collapsed": true
   },
   "source": [
    "I have not run above the code below this cell as I had to wiat for the blastp. It has run the command for a couple of queries but there are more to go! "
   ]
  },
  {
   "cell_type": "code",
   "execution_count": null,
   "metadata": {
    "collapsed": true
   },
   "outputs": [],
   "source": []
  },
  {
   "cell_type": "code",
   "execution_count": null,
   "metadata": {
    "collapsed": true
   },
   "outputs": [],
   "source": []
  },
  {
   "cell_type": "code",
   "execution_count": null,
   "metadata": {
    "collapsed": true
   },
   "outputs": [],
   "source": [
    "import csv"
   ]
  },
  {
   "cell_type": "code",
   "execution_count": null,
   "metadata": {
    "collapsed": true
   },
   "outputs": [],
   "source": [
    "fn_fwd = \"blastp402_898_query_coverage.tab\" # forward search\n",
    "fn_rev = \"blastp898_402_query_coverage.tab\"  # reverse search"
   ]
  },
  {
   "cell_type": "code",
   "execution_count": null,
   "metadata": {
    "collapsed": true
   },
   "outputs": [],
   "source": [
    "# Read in forward data: query sequence name and target sequence\n",
    "# name only (for now) for the best match.\n",
    "# We define best match as the first match row for the query\n",
    "# sequence.\n",
    "def read_best_blast_hits(filename,pidthreshold,qcovsthreshold):\n",
    "    \"\"\"Read BLAST tab-separated output and return dictionary\n",
    "    of best hits as {query1:subject1, query2:subject2...}\"\"\"\n",
    "    results = {}  # empty dictionary holds results\n",
    "    with open(filename, 'r') as fh:\n",
    "        reader = csv.reader(fh, delimiter=\"\\t\")\n",
    "        for row in reader:\n",
    "            query_name = row[0]\n",
    "            sbjct_name = row[1]\n",
    "            pid = row[2]\n",
    "            qcovs =row[12]\n",
    "            # if query_name isn't in results dictionary, assume\n",
    "            # this line is the top hit\n",
    "            if query_name not in results:\n",
    "                if float(pid) >= pidthreshold:\n",
    "                    if float(qcovs)>= qcovsthreshold:\n",
    "                        results[query_name] = sbjct_name\n",
    "    return results"
   ]
  },
  {
   "cell_type": "code",
   "execution_count": null,
   "metadata": {
    "collapsed": true
   },
   "outputs": [],
   "source": [
    "# Get best hits in forward and reverse directions\n",
    "fwd = read_best_blast_hits(fn_fwd ,80 ,80)\n",
    "rev = read_best_blast_hits(fn_rev ,80 ,80)"
   ]
  },
  {
   "cell_type": "code",
   "execution_count": null,
   "metadata": {
    "collapsed": true
   },
   "outputs": [],
   "source": [
    "# Peek at results dictionaries\n",
    "print(list(fwd.items())[:5])\n",
    "print(list(rev.items())[:5])"
   ]
  },
  {
   "cell_type": "code",
   "execution_count": null,
   "metadata": {
    "collapsed": true
   },
   "outputs": [],
   "source": [
    "qf1 = fwd.keys()\n",
    "print(qf1) # query name"
   ]
  },
  {
   "cell_type": "code",
   "execution_count": null,
   "metadata": {
    "collapsed": true
   },
   "outputs": [],
   "source": [
    "# Identify reciprocal best hits from forward and reverse\n",
    "# best hit dictionaries\n",
    "def calculate_rbbh(fwd, rev):\n",
    "    \"\"\"Returns a list of (query, subject) tuples that are\n",
    "    reciprocal best hits, as defined from the passed pair\n",
    "    of dictionaries:\n",
    "    \n",
    "    - fwd - best hits in the forward direction\n",
    "    - rev - best hits in the reverse direction\n",
    "    \"\"\"\n",
    "    rbbh = []\n",
    "    for query_name in fwd.keys():\n",
    "        match = fwd[query_name]\n",
    "        if match in rev:\n",
    "            if rev[match] == query_name:\n",
    "                rbbh.append((query_name, fwd[query_name]))\n",
    "    return rbbh"
   ]
  },
  {
   "cell_type": "code",
   "execution_count": null,
   "metadata": {
    "collapsed": true
   },
   "outputs": [],
   "source": [
    "# RBBH in forward direction\n",
    "rbbh = calculate_rbbh(fwd, rev)\n",
    "print(len(rbbh))"
   ]
  },
  {
   "cell_type": "code",
   "execution_count": null,
   "metadata": {
    "collapsed": true
   },
   "outputs": [],
   "source": [
    "# RBBH in reverse direction (should be same as forward)\n",
    "rbbh_rev = calculate_rbbh(rev, fwd)\n",
    "print(len(rbbh_rev))"
   ]
  },
  {
   "cell_type": "code",
   "execution_count": null,
   "metadata": {
    "collapsed": true
   },
   "outputs": [],
   "source": [
    "print(rbbh[:5])\n",
    "print(rbbh_rev[:5]"
   ]
  },
  {
   "cell_type": "code",
   "execution_count": null,
   "metadata": {
    "collapsed": true
   },
   "outputs": [],
   "source": []
  },
  {
   "cell_type": "code",
   "execution_count": null,
   "metadata": {
    "collapsed": true
   },
   "outputs": [],
   "source": [
    "fwd = read_best_blast_hits(fn_fwd ,80 ,80)\n",
    "rev = read_best_blast_hits(fn_rev ,80 ,80)\n",
    "rbbh = calculate_rbbh(fwd, rev)"
   ]
  },
  {
   "cell_type": "code",
   "execution_count": null,
   "metadata": {
    "collapsed": true
   },
   "outputs": [],
   "source": [
    "print(len(rbbh))\n",
    "print(rbbh[:20])"
   ]
  }
 ],
 "metadata": {
  "kernelspec": {
   "display_name": "Python 3",
   "language": "python",
   "name": "python3"
  },
  "language_info": {
   "codemirror_mode": {
    "name": "ipython",
    "version": 3
   },
   "file_extension": ".py",
   "mimetype": "text/x-python",
   "name": "python",
   "nbconvert_exporter": "python",
   "pygments_lexer": "ipython3",
   "version": "3.5.1"
  }
 },
 "nbformat": 4,
 "nbformat_minor": 0
}
