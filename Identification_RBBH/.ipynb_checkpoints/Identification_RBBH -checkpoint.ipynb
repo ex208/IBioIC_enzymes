{
 "cells": [
  {
   "cell_type": "code",
   "execution_count": 14,
   "metadata": {
    "collapsed": false
   },
   "outputs": [
    {
     "name": "stdout",
     "output_type": "stream",
     "text": [
      "\u001b[31mCSL_RW192_renamed_genecall_translations.fasta\u001b[m\u001b[m\r\n",
      "\u001b[31mCSL_RW240_renamed_genecall_translations.fasta\u001b[m\u001b[m\r\n",
      "\u001b[31mDW_0440_renamed_genecall_translations.fasta\u001b[m\u001b[m\r\n",
      "\u001b[31mGBBC2039_renamed_genecall_translations.fasta\u001b[m\u001b[m\r\n",
      "\u001b[31mGBBC2040_renamed_genecall_translations.fasta\u001b[m\u001b[m\r\n",
      "\u001b[31mIPO_2222_renamed_genecall_translations.fasta\u001b[m\u001b[m\r\n",
      "\u001b[31mIPO_980_renamed_genecall_translations.fasta\u001b[m\u001b[m\r\n",
      "Identification_RBBH .ipynb\r\n",
      "Identification_RBBH.py\r\n",
      "Identification_of_RBBH.md\r\n",
      "\u001b[31mMK10_renamed_genecall_translations.fasta\u001b[m\u001b[m\r\n",
      "\u001b[31mMK16_renamed_genecall_translations.fasta\u001b[m\u001b[m\r\n",
      "\u001b[31mMK19_renamed_genecall_translations.fasta\u001b[m\u001b[m\r\n",
      "\u001b[31mMK7_renamed_genecall_translations.fasta\u001b[m\u001b[m\r\n",
      "\u001b[31mNCPPB_2511_renamed_genecall_translations.fasta\u001b[m\u001b[m\r\n",
      "\u001b[31mNCPPB_2538_renamed_genecall_translations.fasta\u001b[m\u001b[m\r\n",
      "\u001b[31mNCPPB_2976_renamed_genecall_translations.fasta\u001b[m\u001b[m\r\n",
      "\u001b[31mNCPPB_3274_renamed_genecall_translations.fasta\u001b[m\u001b[m\r\n",
      "\u001b[31mNCPPB_3531_renamed_genecall_translations.fasta\u001b[m\u001b[m\r\n",
      "\u001b[31mNCPPB_3532_renamed_genecall_translations.fasta\u001b[m\u001b[m\r\n",
      "\u001b[31mNCPPB_3533_renamed_genecall_translations.fasta\u001b[m\u001b[m\r\n",
      "\u001b[31mNCPPB_3534_renamed_genecall_translations.fasta\u001b[m\u001b[m\r\n",
      "\u001b[31mNCPPB_3537_renamed_genecall_translations.fasta\u001b[m\u001b[m\r\n",
      "\u001b[31mNCPPB_402_renamed_genecall_translations.fasta\u001b[m\u001b[m\r\n",
      "\u001b[31mNCPPB_453_renamed_genecall_translations.fasta\u001b[m\u001b[m\r\n",
      "\u001b[31mNCPPB_516_renamed_genecall_translations.fasta\u001b[m\u001b[m\r\n",
      "\u001b[31mNCPPB_569_renamed_genecall_translations.fasta\u001b[m\u001b[m\r\n",
      "\u001b[31mNCPPB_898_renamed_genecall_translations.fasta\u001b[m\u001b[m\r\n",
      "Test_run.ipynb\r\n"
     ]
    }
   ],
   "source": [
    "#View the content of the folder where all Dickeya genomes are stored\n",
    "!ls"
   ]
  },
  {
   "cell_type": "code",
   "execution_count": 31,
   "metadata": {
    "collapsed": true
   },
   "outputs": [],
   "source": [
    "import subprocess"
   ]
  },
  {
   "cell_type": "code",
   "execution_count": 32,
   "metadata": {
    "collapsed": false
   },
   "outputs": [
    {
     "name": "stdout",
     "output_type": "stream",
     "text": [
      "['makeblastdb', '-in', 'CSL_RW192_renamed_genecall_translations.fasta', '-dbtype', 'prot', '-title', 'CSL_RW192_renamed_genecall_translations.fasta', '-out', 'CSL_RW192_renamed_genecall_translations.fasta']\n",
      "['makeblastdb', '-in', 'CSL_RW240_renamed_genecall_translations.fasta', '-dbtype', 'prot', '-title', 'CSL_RW240_renamed_genecall_translations.fasta', '-out', 'CSL_RW240_renamed_genecall_translations.fasta']\n",
      "['makeblastdb', '-in', 'DW_0440_renamed_genecall_translations.fasta', '-dbtype', 'prot', '-title', 'DW_0440_renamed_genecall_translations.fasta', '-out', 'DW_0440_renamed_genecall_translations.fasta']\n",
      "['makeblastdb', '-in', 'GBBC2039_renamed_genecall_translations.fasta', '-dbtype', 'prot', '-title', 'GBBC2039_renamed_genecall_translations.fasta', '-out', 'GBBC2039_renamed_genecall_translations.fasta']\n",
      "['makeblastdb', '-in', 'GBBC2040_renamed_genecall_translations.fasta', '-dbtype', 'prot', '-title', 'GBBC2040_renamed_genecall_translations.fasta', '-out', 'GBBC2040_renamed_genecall_translations.fasta']\n",
      "['makeblastdb', '-in', 'IPO_2222_renamed_genecall_translations.fasta', '-dbtype', 'prot', '-title', 'IPO_2222_renamed_genecall_translations.fasta', '-out', 'IPO_2222_renamed_genecall_translations.fasta']\n",
      "['makeblastdb', '-in', 'IPO_980_renamed_genecall_translations.fasta', '-dbtype', 'prot', '-title', 'IPO_980_renamed_genecall_translations.fasta', '-out', 'IPO_980_renamed_genecall_translations.fasta']\n",
      "['makeblastdb', '-in', 'MK10_renamed_genecall_translations.fasta', '-dbtype', 'prot', '-title', 'MK10_renamed_genecall_translations.fasta', '-out', 'MK10_renamed_genecall_translations.fasta']\n",
      "['makeblastdb', '-in', 'MK16_renamed_genecall_translations.fasta', '-dbtype', 'prot', '-title', 'MK16_renamed_genecall_translations.fasta', '-out', 'MK16_renamed_genecall_translations.fasta']\n",
      "['makeblastdb', '-in', 'MK19_renamed_genecall_translations.fasta', '-dbtype', 'prot', '-title', 'MK19_renamed_genecall_translations.fasta', '-out', 'MK19_renamed_genecall_translations.fasta']\n",
      "['makeblastdb', '-in', 'MK7_renamed_genecall_translations.fasta', '-dbtype', 'prot', '-title', 'MK7_renamed_genecall_translations.fasta', '-out', 'MK7_renamed_genecall_translations.fasta']\n",
      "['makeblastdb', '-in', 'NCPPB_2511_renamed_genecall_translations.fasta', '-dbtype', 'prot', '-title', 'NCPPB_2511_renamed_genecall_translations.fasta', '-out', 'NCPPB_2511_renamed_genecall_translations.fasta']\n",
      "['makeblastdb', '-in', 'NCPPB_2538_renamed_genecall_translations.fasta', '-dbtype', 'prot', '-title', 'NCPPB_2538_renamed_genecall_translations.fasta', '-out', 'NCPPB_2538_renamed_genecall_translations.fasta']\n",
      "['makeblastdb', '-in', 'NCPPB_2976_renamed_genecall_translations.fasta', '-dbtype', 'prot', '-title', 'NCPPB_2976_renamed_genecall_translations.fasta', '-out', 'NCPPB_2976_renamed_genecall_translations.fasta']\n",
      "['makeblastdb', '-in', 'NCPPB_3274_renamed_genecall_translations.fasta', '-dbtype', 'prot', '-title', 'NCPPB_3274_renamed_genecall_translations.fasta', '-out', 'NCPPB_3274_renamed_genecall_translations.fasta']\n",
      "['makeblastdb', '-in', 'NCPPB_3531_renamed_genecall_translations.fasta', '-dbtype', 'prot', '-title', 'NCPPB_3531_renamed_genecall_translations.fasta', '-out', 'NCPPB_3531_renamed_genecall_translations.fasta']\n",
      "['makeblastdb', '-in', 'NCPPB_3532_renamed_genecall_translations.fasta', '-dbtype', 'prot', '-title', 'NCPPB_3532_renamed_genecall_translations.fasta', '-out', 'NCPPB_3532_renamed_genecall_translations.fasta']\n",
      "['makeblastdb', '-in', 'NCPPB_3533_renamed_genecall_translations.fasta', '-dbtype', 'prot', '-title', 'NCPPB_3533_renamed_genecall_translations.fasta', '-out', 'NCPPB_3533_renamed_genecall_translations.fasta']\n",
      "['makeblastdb', '-in', 'NCPPB_3534_renamed_genecall_translations.fasta', '-dbtype', 'prot', '-title', 'NCPPB_3534_renamed_genecall_translations.fasta', '-out', 'NCPPB_3534_renamed_genecall_translations.fasta']\n",
      "['makeblastdb', '-in', 'NCPPB_3537_renamed_genecall_translations.fasta', '-dbtype', 'prot', '-title', 'NCPPB_3537_renamed_genecall_translations.fasta', '-out', 'NCPPB_3537_renamed_genecall_translations.fasta']\n",
      "['makeblastdb', '-in', 'NCPPB_402_renamed_genecall_translations.fasta', '-dbtype', 'prot', '-title', 'NCPPB_402_renamed_genecall_translations.fasta', '-out', 'NCPPB_402_renamed_genecall_translations.fasta']\n",
      "['makeblastdb', '-in', 'NCPPB_453_renamed_genecall_translations.fasta', '-dbtype', 'prot', '-title', 'NCPPB_453_renamed_genecall_translations.fasta', '-out', 'NCPPB_453_renamed_genecall_translations.fasta']\n",
      "['makeblastdb', '-in', 'NCPPB_516_renamed_genecall_translations.fasta', '-dbtype', 'prot', '-title', 'NCPPB_516_renamed_genecall_translations.fasta', '-out', 'NCPPB_516_renamed_genecall_translations.fasta']\n",
      "['makeblastdb', '-in', 'NCPPB_569_renamed_genecall_translations.fasta', '-dbtype', 'prot', '-title', 'NCPPB_569_renamed_genecall_translations.fasta', '-out', 'NCPPB_569_renamed_genecall_translations.fasta']\n",
      "['makeblastdb', '-in', 'NCPPB_898_renamed_genecall_translations.fasta', '-dbtype', 'prot', '-title', 'NCPPB_898_renamed_genecall_translations.fasta', '-out', 'NCPPB_898_renamed_genecall_translations.fasta']\n"
     ]
    }
   ],
   "source": [
    "import os\n",
    "for i in os.listdir(\"/Users/eirinixemantilotou/Documents/PhD/PhD_year1/Bioinformatics/Identifying_Dickeya_enzymes/Identification_RBBH\"):\n",
    "    if i.endswith(\".fasta\"):\n",
    "        cmd = \"makeblastdb -in %s -dbtype prot -title %s -out %s\" % (i,i,i)\n",
    "        cmd = cmd.split()\n",
    "        print(cmd)\n",
    "        subprocess.call(cmd)\n",
    "   \n",
    "    "
   ]
  },
  {
   "cell_type": "code",
   "execution_count": 39,
   "metadata": {
    "collapsed": false
   },
   "outputs": [
    {
     "ename": "ImportError",
     "evalue": "No module named 'Bio'",
     "output_type": "error",
     "traceback": [
      "\u001b[0;31m---------------------------------------------------------------------------\u001b[0m",
      "\u001b[0;31mImportError\u001b[0m                               Traceback (most recent call last)",
      "\u001b[0;32m<ipython-input-39-56725491c812>\u001b[0m in \u001b[0;36m<module>\u001b[0;34m()\u001b[0m\n\u001b[0;32m----> 1\u001b[0;31m \u001b[0;32mfrom\u001b[0m \u001b[0mBio\u001b[0m \u001b[0;32mimport\u001b[0m \u001b[0mSeqIO\u001b[0m\u001b[0;34m\u001b[0m\u001b[0m\n\u001b[0m\u001b[1;32m      2\u001b[0m \u001b[0;34m\u001b[0m\u001b[0m\n\u001b[1;32m      3\u001b[0m \u001b[0mfn\u001b[0m \u001b[0;34m=\u001b[0m \u001b[0;34m'/Users/eirinixemantilotou/Documents/PhD/PhD_year1/Bioinformatics/Identifying_Dickeya_enzymes/Identification_RBBH/CSL_RW192_renamed_genecall_translations.fasta'\u001b[0m\u001b[0;34m\u001b[0m\u001b[0m\n\u001b[1;32m      4\u001b[0m \u001b[0;34m\u001b[0m\u001b[0m\n\u001b[1;32m      5\u001b[0m \u001b[0ms\u001b[0m \u001b[0;34m=\u001b[0m \u001b[0mSeqIO\u001b[0m\u001b[0;34m.\u001b[0m\u001b[0mread\u001b[0m\u001b[0;34m(\u001b[0m\u001b[0mfn\u001b[0m\u001b[0;34m,\u001b[0m \u001b[0;34m'fasta'\u001b[0m\u001b[0;34m)\u001b[0m\u001b[0;34m\u001b[0m\u001b[0m\n",
      "\u001b[0;31mImportError\u001b[0m: No module named 'Bio'"
     ]
    }
   ],
   "source": [
    "from Bio import SeqIO\n",
    "\n",
    "fn = '/Users/eirinixemantilotou/Documents/PhD/PhD_year1/Bioinformatics/Identifying_Dickeya_enzymes/Identification_RBBH/CSL_RW192_renamed_genecall_translations.fasta'\n",
    "\n",
    "s = SeqIO.read(fn, 'fasta')"
   ]
  },
  {
   "cell_type": "code",
   "execution_count": 27,
   "metadata": {
    "collapsed": false
   },
   "outputs": [
    {
     "name": "stdout",
     "output_type": "stream",
     "text": [
      "['makeblastdb', '-in', 'CSL_RW192_renamed_genecall_translations.fasta', '-dbtype', 'prot', '-title', 'CSL_RW192_renamed_genecall_translations.fasta', '-out', 'CSL_RW192_renamed_genecall_translations.fasta']\n",
      "['makeblastdb', '-in', 'CSL_RW240_renamed_genecall_translations.fasta', '-dbtype', 'prot', '-title', 'CSL_RW240_renamed_genecall_translations.fasta', '-out', 'CSL_RW240_renamed_genecall_translations.fasta']\n",
      "['makeblastdb', '-in', 'DW_0440_renamed_genecall_translations.fasta', '-dbtype', 'prot', '-title', 'DW_0440_renamed_genecall_translations.fasta', '-out', 'DW_0440_renamed_genecall_translations.fasta']\n",
      "['makeblastdb', '-in', 'GBBC2039_renamed_genecall_translations.fasta', '-dbtype', 'prot', '-title', 'GBBC2039_renamed_genecall_translations.fasta', '-out', 'GBBC2039_renamed_genecall_translations.fasta']\n",
      "['makeblastdb', '-in', 'GBBC2040_renamed_genecall_translations.fasta', '-dbtype', 'prot', '-title', 'GBBC2040_renamed_genecall_translations.fasta', '-out', 'GBBC2040_renamed_genecall_translations.fasta']\n",
      "['makeblastdb', '-in', 'IPO_2222_renamed_genecall_translations.fasta', '-dbtype', 'prot', '-title', 'IPO_2222_renamed_genecall_translations.fasta', '-out', 'IPO_2222_renamed_genecall_translations.fasta']\n",
      "['makeblastdb', '-in', 'IPO_980_renamed_genecall_translations.fasta', '-dbtype', 'prot', '-title', 'IPO_980_renamed_genecall_translations.fasta', '-out', 'IPO_980_renamed_genecall_translations.fasta']\n",
      "['makeblastdb', '-in', 'MK10_renamed_genecall_translations.fasta', '-dbtype', 'prot', '-title', 'MK10_renamed_genecall_translations.fasta', '-out', 'MK10_renamed_genecall_translations.fasta']\n",
      "['makeblastdb', '-in', 'MK16_renamed_genecall_translations.fasta', '-dbtype', 'prot', '-title', 'MK16_renamed_genecall_translations.fasta', '-out', 'MK16_renamed_genecall_translations.fasta']\n",
      "['makeblastdb', '-in', 'MK19_renamed_genecall_translations.fasta', '-dbtype', 'prot', '-title', 'MK19_renamed_genecall_translations.fasta', '-out', 'MK19_renamed_genecall_translations.fasta']\n",
      "['makeblastdb', '-in', 'MK7_renamed_genecall_translations.fasta', '-dbtype', 'prot', '-title', 'MK7_renamed_genecall_translations.fasta', '-out', 'MK7_renamed_genecall_translations.fasta']\n",
      "['makeblastdb', '-in', 'NCPPB_2511_renamed_genecall_translations.fasta', '-dbtype', 'prot', '-title', 'NCPPB_2511_renamed_genecall_translations.fasta', '-out', 'NCPPB_2511_renamed_genecall_translations.fasta']\n",
      "['makeblastdb', '-in', 'NCPPB_2538_renamed_genecall_translations.fasta', '-dbtype', 'prot', '-title', 'NCPPB_2538_renamed_genecall_translations.fasta', '-out', 'NCPPB_2538_renamed_genecall_translations.fasta']\n",
      "['makeblastdb', '-in', 'NCPPB_2976_renamed_genecall_translations.fasta', '-dbtype', 'prot', '-title', 'NCPPB_2976_renamed_genecall_translations.fasta', '-out', 'NCPPB_2976_renamed_genecall_translations.fasta']\n",
      "['makeblastdb', '-in', 'NCPPB_3274_renamed_genecall_translations.fasta', '-dbtype', 'prot', '-title', 'NCPPB_3274_renamed_genecall_translations.fasta', '-out', 'NCPPB_3274_renamed_genecall_translations.fasta']\n",
      "['makeblastdb', '-in', 'NCPPB_3531_renamed_genecall_translations.fasta', '-dbtype', 'prot', '-title', 'NCPPB_3531_renamed_genecall_translations.fasta', '-out', 'NCPPB_3531_renamed_genecall_translations.fasta']\n",
      "['makeblastdb', '-in', 'NCPPB_3532_renamed_genecall_translations.fasta', '-dbtype', 'prot', '-title', 'NCPPB_3532_renamed_genecall_translations.fasta', '-out', 'NCPPB_3532_renamed_genecall_translations.fasta']\n",
      "['makeblastdb', '-in', 'NCPPB_3533_renamed_genecall_translations.fasta', '-dbtype', 'prot', '-title', 'NCPPB_3533_renamed_genecall_translations.fasta', '-out', 'NCPPB_3533_renamed_genecall_translations.fasta']\n",
      "['makeblastdb', '-in', 'NCPPB_3534_renamed_genecall_translations.fasta', '-dbtype', 'prot', '-title', 'NCPPB_3534_renamed_genecall_translations.fasta', '-out', 'NCPPB_3534_renamed_genecall_translations.fasta']\n",
      "['makeblastdb', '-in', 'NCPPB_3537_renamed_genecall_translations.fasta', '-dbtype', 'prot', '-title', 'NCPPB_3537_renamed_genecall_translations.fasta', '-out', 'NCPPB_3537_renamed_genecall_translations.fasta']\n",
      "['makeblastdb', '-in', 'NCPPB_402_renamed_genecall_translations.fasta', '-dbtype', 'prot', '-title', 'NCPPB_402_renamed_genecall_translations.fasta', '-out', 'NCPPB_402_renamed_genecall_translations.fasta']\n",
      "['makeblastdb', '-in', 'NCPPB_453_renamed_genecall_translations.fasta', '-dbtype', 'prot', '-title', 'NCPPB_453_renamed_genecall_translations.fasta', '-out', 'NCPPB_453_renamed_genecall_translations.fasta']\n",
      "['makeblastdb', '-in', 'NCPPB_516_renamed_genecall_translations.fasta', '-dbtype', 'prot', '-title', 'NCPPB_516_renamed_genecall_translations.fasta', '-out', 'NCPPB_516_renamed_genecall_translations.fasta']\n",
      "['makeblastdb', '-in', 'NCPPB_569_renamed_genecall_translations.fasta', '-dbtype', 'prot', '-title', 'NCPPB_569_renamed_genecall_translations.fasta', '-out', 'NCPPB_569_renamed_genecall_translations.fasta']\n",
      "['makeblastdb', '-in', 'NCPPB_898_renamed_genecall_translations.fasta', '-dbtype', 'prot', '-title', 'NCPPB_898_renamed_genecall_translations.fasta', '-out', 'NCPPB_898_renamed_genecall_translations.fasta']\n"
     ]
    }
   ],
   "source": [
    "for i in file:\n",
    "    cmd = \"makeblastdb -in %s -dbtype prot -title %s -out %s\" % (i,i,i)\n",
    "    cmd = cmd.split()\n",
    "    print(cmd)\n",
    "    subprocess.call(cmd)\n",
    "    "
   ]
  },
  {
   "cell_type": "code",
   "execution_count": 8,
   "metadata": {
    "collapsed": false
   },
   "outputs": [
    {
     "name": "stdout",
     "output_type": "stream",
     "text": [
      "['makeblastdb', '-in', 'CSL_RW192_renamed_genecall_translations.fasta', '-dbtype', 'prot', '-title', 'CSL_RW192_renamed_genecall_translations.fasta', '-out', 'CSL_RW192_renamed_genecall_translations.fasta']\n",
      "['makeblastdb', '-in', 'CSL_RW240_renamed_genecall_translations.fasta', '-dbtype', 'prot', '-title', 'CSL_RW240_renamed_genecall_translations.fasta', '-out', 'CSL_RW240_renamed_genecall_translations.fasta']\n",
      "['makeblastdb', '-in', 'DW_0440_renamed_genecall_translations.fasta', '-dbtype', 'prot', '-title', 'DW_0440_renamed_genecall_translations.fasta', '-out', 'DW_0440_renamed_genecall_translations.fasta']\n",
      "['makeblastdb', '-in', 'GBBC2039_renamed_genecall_translations.fasta', '-dbtype', 'prot', '-title', 'GBBC2039_renamed_genecall_translations.fasta', '-out', 'GBBC2039_renamed_genecall_translations.fasta']\n",
      "['makeblastdb', '-in', 'GBBC2040_renamed_genecall_translations.fasta', '-dbtype', 'prot', '-title', 'GBBC2040_renamed_genecall_translations.fasta', '-out', 'GBBC2040_renamed_genecall_translations.fasta']\n",
      "['makeblastdb', '-in', 'IPO_2222_renamed_genecall_translations.fasta', '-dbtype', 'prot', '-title', 'IPO_2222_renamed_genecall_translations.fasta', '-out', 'IPO_2222_renamed_genecall_translations.fasta']\n",
      "['makeblastdb', '-in', 'IPO_980_renamed_genecall_translations.fasta', '-dbtype', 'prot', '-title', 'IPO_980_renamed_genecall_translations.fasta', '-out', 'IPO_980_renamed_genecall_translations.fasta']\n",
      "['makeblastdb', '-in', 'MK10_renamed_genecall_translations.fasta', '-dbtype', 'prot', '-title', 'MK10_renamed_genecall_translations.fasta', '-out', 'MK10_renamed_genecall_translations.fasta']\n",
      "['makeblastdb', '-in', 'MK16_renamed_genecall_translations.fasta', '-dbtype', 'prot', '-title', 'MK16_renamed_genecall_translations.fasta', '-out', 'MK16_renamed_genecall_translations.fasta']\n",
      "['makeblastdb', '-in', 'MK19_renamed_genecall_translations.fasta', '-dbtype', 'prot', '-title', 'MK19_renamed_genecall_translations.fasta', '-out', 'MK19_renamed_genecall_translations.fasta']\n",
      "['makeblastdb', '-in', 'MK7_renamed_genecall_translations.fasta', '-dbtype', 'prot', '-title', 'MK7_renamed_genecall_translations.fasta', '-out', 'MK7_renamed_genecall_translations.fasta']\n",
      "['makeblastdb', '-in', 'NCPPB_2511_renamed_genecall_translations.fasta', '-dbtype', 'prot', '-title', 'NCPPB_2511_renamed_genecall_translations.fasta', '-out', 'NCPPB_2511_renamed_genecall_translations.fasta']\n",
      "['makeblastdb', '-in', 'NCPPB_2538_renamed_genecall_translations.fasta', '-dbtype', 'prot', '-title', 'NCPPB_2538_renamed_genecall_translations.fasta', '-out', 'NCPPB_2538_renamed_genecall_translations.fasta']\n",
      "['makeblastdb', '-in', 'NCPPB_2976_renamed_genecall_translations.fasta', '-dbtype', 'prot', '-title', 'NCPPB_2976_renamed_genecall_translations.fasta', '-out', 'NCPPB_2976_renamed_genecall_translations.fasta']\n",
      "['makeblastdb', '-in', 'NCPPB_3274_renamed_genecall_translations.fasta', '-dbtype', 'prot', '-title', 'NCPPB_3274_renamed_genecall_translations.fasta', '-out', 'NCPPB_3274_renamed_genecall_translations.fasta']\n",
      "['makeblastdb', '-in', 'NCPPB_3531_renamed_genecall_translations.fasta', '-dbtype', 'prot', '-title', 'NCPPB_3531_renamed_genecall_translations.fasta', '-out', 'NCPPB_3531_renamed_genecall_translations.fasta']\n",
      "['makeblastdb', '-in', 'NCPPB_3532_renamed_genecall_translations.fasta', '-dbtype', 'prot', '-title', 'NCPPB_3532_renamed_genecall_translations.fasta', '-out', 'NCPPB_3532_renamed_genecall_translations.fasta']\n",
      "['makeblastdb', '-in', 'NCPPB_3533_renamed_genecall_translations.fasta', '-dbtype', 'prot', '-title', 'NCPPB_3533_renamed_genecall_translations.fasta', '-out', 'NCPPB_3533_renamed_genecall_translations.fasta']\n",
      "['makeblastdb', '-in', 'NCPPB_3534_renamed_genecall_translations.fasta', '-dbtype', 'prot', '-title', 'NCPPB_3534_renamed_genecall_translations.fasta', '-out', 'NCPPB_3534_renamed_genecall_translations.fasta']\n",
      "['makeblastdb', '-in', 'NCPPB_3537_renamed_genecall_translations.fasta', '-dbtype', 'prot', '-title', 'NCPPB_3537_renamed_genecall_translations.fasta', '-out', 'NCPPB_3537_renamed_genecall_translations.fasta']\n",
      "['makeblastdb', '-in', 'NCPPB_402_renamed_genecall_translations.fasta', '-dbtype', 'prot', '-title', 'NCPPB_402_renamed_genecall_translations.fasta', '-out', 'NCPPB_402_renamed_genecall_translations.fasta']\n",
      "['makeblastdb', '-in', 'NCPPB_453_renamed_genecall_translations.fasta', '-dbtype', 'prot', '-title', 'NCPPB_453_renamed_genecall_translations.fasta', '-out', 'NCPPB_453_renamed_genecall_translations.fasta']\n",
      "['makeblastdb', '-in', 'NCPPB_516_renamed_genecall_translations.fasta', '-dbtype', 'prot', '-title', 'NCPPB_516_renamed_genecall_translations.fasta', '-out', 'NCPPB_516_renamed_genecall_translations.fasta']\n",
      "['makeblastdb', '-in', 'NCPPB_569_renamed_genecall_translations.fasta', '-dbtype', 'prot', '-title', 'NCPPB_569_renamed_genecall_translations.fasta', '-out', 'NCPPB_569_renamed_genecall_translations.fasta']\n",
      "['makeblastdb', '-in', 'NCPPB_898_renamed_genecall_translations.fasta', '-dbtype', 'prot', '-title', 'NCPPB_898_renamed_genecall_translations.fasta', '-out', 'NCPPB_898_renamed_genecall_translations.fasta']\n"
     ]
    }
   ],
   "source": [
    "for i in infiles:\n",
    "    cmd = \"makeblastdb -in %s -dbtype prot -title %s -out %s\" % (i,i,i)\n",
    "    cmd = cmd.split()\n",
    "    print(cmd)\n",
    "   \n",
    "    \n",
    "    "
   ]
  },
  {
   "cell_type": "code",
   "execution_count": null,
   "metadata": {
    "collapsed": true
   },
   "outputs": [],
   "source": [
    "for i in infiles:\n",
    "    for j in infiles:\n",
    "        print (i,j)\n",
    "        if i != j:\n",
    "            cmd = \"blastp -query %s -db %s -out %s_%s.tab -outfmt 7\" %(i,j,i.split('.')[0],j.split('.')[0])\n",
    "            cmd = cmd.split()\n",
    "            subprocess.call(cmd)"
   ]
  }
 ],
 "metadata": {
  "kernelspec": {
   "display_name": "Python 3",
   "language": "python",
   "name": "python3"
  },
  "language_info": {
   "codemirror_mode": {
    "name": "ipython",
    "version": 3
   },
   "file_extension": ".py",
   "mimetype": "text/x-python",
   "name": "python",
   "nbconvert_exporter": "python",
   "pygments_lexer": "ipython3",
   "version": "3.5.0"
  }
 },
 "nbformat": 4,
 "nbformat_minor": 0
}
