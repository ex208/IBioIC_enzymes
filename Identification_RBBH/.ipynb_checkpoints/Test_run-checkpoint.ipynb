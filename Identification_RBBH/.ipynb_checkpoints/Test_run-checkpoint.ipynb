{
 "cells": [
  {
   "cell_type": "code",
   "execution_count": 2,
   "metadata": {
    "collapsed": true
   },
   "outputs": [],
   "source": [
    "infiles = ['a.fasta', 'b.fasta', 'c.fasta']  "
   ]
  },
  {
   "cell_type": "code",
   "execution_count": 3,
   "metadata": {
    "collapsed": false,
    "scrolled": true
   },
   "outputs": [
    {
     "name": "stdout",
     "output_type": "stream",
     "text": [
      "makeblastdb -in a.fasta -dbtype prot -title \"a.fasta\" -out a.fasta\n",
      "makeblastdb -in b.fasta -dbtype prot -title \"b.fasta\" -out b.fasta\n",
      "makeblastdb -in c.fasta -dbtype prot -title \"c.fasta\" -out c.fasta\n"
     ]
    }
   ],
   "source": [
    "for i in infiles:\n",
    "    cmd = \"makeblastdb -in %s -dbtype prot -title \\\"%s\\\" -out %s\" % (i,i,i)\n",
    "    print(cmd)"
   ]
  },
  {
   "cell_type": "code",
   "execution_count": 4,
   "metadata": {
    "collapsed": false
   },
   "outputs": [
    {
     "name": "stdout",
     "output_type": "stream",
     "text": [
      "a.fasta a.fasta\n",
      "a.fasta b.fasta\n"
     ]
    },
    {
     "ename": "TypeError",
     "evalue": "unsupported operand type(s) for %: 'list' and 'tuple'",
     "output_type": "error",
     "traceback": [
      "\u001b[0;31m---------------------------------------------------------------------------\u001b[0m",
      "\u001b[0;31mTypeError\u001b[0m                                 Traceback (most recent call last)",
      "\u001b[0;32m<ipython-input-4-224111857ce2>\u001b[0m in \u001b[0;36m<module>\u001b[0;34m()\u001b[0m\n\u001b[1;32m      3\u001b[0m         \u001b[0mprint\u001b[0m \u001b[0;34m(\u001b[0m\u001b[0mi\u001b[0m\u001b[0;34m,\u001b[0m\u001b[0mj\u001b[0m\u001b[0;34m)\u001b[0m\u001b[0;34m\u001b[0m\u001b[0m\n\u001b[1;32m      4\u001b[0m         \u001b[0;32mif\u001b[0m \u001b[0mi\u001b[0m \u001b[0;34m!=\u001b[0m \u001b[0mj\u001b[0m\u001b[0;34m:\u001b[0m\u001b[0;34m\u001b[0m\u001b[0m\n\u001b[0;32m----> 5\u001b[0;31m             \u001b[0mcmd\u001b[0m \u001b[0;34m=\u001b[0m \u001b[0;34m[\u001b[0m\u001b[0;34m\"blastp\"\u001b[0m\u001b[0;34m,\u001b[0m \u001b[0;34m\"-query\"\u001b[0m\u001b[0;34m,\u001b[0m \u001b[0;34m\"%s\"\u001b[0m\u001b[0;34m,\u001b[0m \u001b[0;34m\"-db\"\u001b[0m\u001b[0;34m,\u001b[0m \u001b[0;34m\"%s\"\u001b[0m\u001b[0;34m,\u001b[0m \u001b[0;34m\"-out\"\u001b[0m\u001b[0;34m,\u001b[0m \u001b[0;34m\"%s_%s.tab\"\u001b[0m\u001b[0;34m,\u001b[0m \u001b[0;34m\"-outfmt\"\u001b[0m\u001b[0;34m,\u001b[0m \u001b[0;34m\"7\"\u001b[0m\u001b[0;34m]\u001b[0m \u001b[0;34m%\u001b[0m\u001b[0;34m(\u001b[0m\u001b[0mi\u001b[0m\u001b[0;34m,\u001b[0m\u001b[0mj\u001b[0m\u001b[0;34m,\u001b[0m\u001b[0mi\u001b[0m\u001b[0;34m.\u001b[0m\u001b[0msplit\u001b[0m\u001b[0;34m(\u001b[0m\u001b[0;34m'.'\u001b[0m\u001b[0;34m)\u001b[0m\u001b[0;34m[\u001b[0m\u001b[0;36m0\u001b[0m\u001b[0;34m]\u001b[0m\u001b[0;34m,\u001b[0m\u001b[0mj\u001b[0m\u001b[0;34m.\u001b[0m\u001b[0msplit\u001b[0m\u001b[0;34m(\u001b[0m\u001b[0;34m'.'\u001b[0m\u001b[0;34m)\u001b[0m\u001b[0;34m[\u001b[0m\u001b[0;36m0\u001b[0m\u001b[0;34m]\u001b[0m\u001b[0;34m)\u001b[0m\u001b[0;34m\u001b[0m\u001b[0m\n\u001b[0m\u001b[1;32m      6\u001b[0m             \u001b[0mprint\u001b[0m \u001b[0;34m(\u001b[0m\u001b[0mcmd\u001b[0m\u001b[0;34m)\u001b[0m\u001b[0;34m\u001b[0m\u001b[0m\n",
      "\u001b[0;31mTypeError\u001b[0m: unsupported operand type(s) for %: 'list' and 'tuple'"
     ]
    }
   ],
   "source": [
    "for i in infiles:\n",
    "    for j in infiles:\n",
    "        print (i,j)\n",
    "        if i != j:\n",
    "            cmd = [\"blastp\", \"-query\", \"%s\", \"-db\", \"%s\", \"-out\", \"%s_%s.tab\", \"-outfmt\", \"7\"] %(i,j,i.split('.')[0],j.split('.')[0])\n",
    "            print (cmd)\n"
   ]
  },
  {
   "cell_type": "code",
   "execution_count": 8,
   "metadata": {
    "collapsed": true
   },
   "outputs": [],
   "source": [
    "import subprocess"
   ]
  },
  {
   "cell_type": "code",
   "execution_count": 13,
   "metadata": {
    "collapsed": false
   },
   "outputs": [
    {
     "name": "stdout",
     "output_type": "stream",
     "text": [
      "['makeblastdb', '-in', 'a.fasta', '-dbtype', 'prot', '-title', 'a.fasta', '-out', 'a.fasta']\n",
      "['makeblastdb', '-in', 'b.fasta', '-dbtype', 'prot', '-title', 'b.fasta', '-out', 'b.fasta']\n",
      "['makeblastdb', '-in', 'c.fasta', '-dbtype', 'prot', '-title', 'c.fasta', '-out', 'c.fasta']\n"
     ]
    }
   ],
   "source": [
    "for i in infiles:\n",
    "    cmd = \"makeblastdb -in %s -dbtype prot -title %s -out %s\" % (i,i,i)\n",
    "    cmd = cmd.split()\n",
    "    print(cmd)\n",
    "    subprocess.call(cmd)"
   ]
  },
  {
   "cell_type": "code",
   "execution_count": 2,
   "metadata": {
    "collapsed": false
   },
   "outputs": [
    {
     "name": "stdout",
     "output_type": "stream",
     "text": [
      "CSL_RW192_renamed_genecall_translations.fasta\n",
      "CSL_RW240_renamed_genecall_translations.fasta\n",
      "DW_0440_renamed_genecall_translations.fasta\n",
      "GBBC2039_renamed_genecall_translations.fasta\n",
      "GBBC2040_renamed_genecall_translations.fasta\n",
      "IPO_2222_renamed_genecall_translations.fasta\n",
      "IPO_980_renamed_genecall_translations.fasta\n",
      "MK10_renamed_genecall_translations.fasta\n",
      "MK16_renamed_genecall_translations.fasta\n",
      "MK19_renamed_genecall_translations.fasta\n",
      "MK7_renamed_genecall_translations.fasta\n",
      "NCPPB_2511_renamed_genecall_translations.fasta\n",
      "NCPPB_2538_renamed_genecall_translations.fasta\n",
      "NCPPB_2976_renamed_genecall_translations.fasta\n",
      "NCPPB_3274_renamed_genecall_translations.fasta\n",
      "NCPPB_3531_renamed_genecall_translations.fasta\n",
      "NCPPB_3532_renamed_genecall_translations.fasta\n",
      "NCPPB_3533_renamed_genecall_translations.fasta\n",
      "NCPPB_3534_renamed_genecall_translations.fasta\n",
      "NCPPB_3537_renamed_genecall_translations.fasta\n",
      "NCPPB_402_renamed_genecall_translations.fasta\n",
      "NCPPB_453_renamed_genecall_translations.fasta\n",
      "NCPPB_516_renamed_genecall_translations.fasta\n",
      "NCPPB_569_renamed_genecall_translations.fasta\n",
      "NCPPB_898_renamed_genecall_translations.fasta\n"
     ]
    }
   ],
   "source": [
    "import os\n",
    "for file in os.listdir(\"/Users/eirinixemantilotou/Documents/PhD/PhD_year1/Bioinformatics/Identifying_Dickeya_enzymes/Identification_RBBH\"):\n",
    "    if file.endswith(\".fasta\"):\n",
    "        "
   ]
  },
  {
   "cell_type": "code",
   "execution_count": null,
   "metadata": {
    "collapsed": true
   },
   "outputs": [],
   "source": [
    "#View the content of the folder where all Dickeya genomes are stored\n",
    "!ls"
   ]
  },
  {
   "cell_type": "code",
   "execution_count": null,
   "metadata": {
    "collapsed": true
   },
   "outputs": [],
   "source": [
    "#Make a list of all the above fasta files \n",
    "import os\n",
    "for infile in os.listdir(\"/Users/eirinixemantilotou/Documents/PhD/PhD_year1/Bioinformatics/Identifying_Dickeya_enzymes/Identification_RBBH\"):\n",
    "    if infile.endswith(\".fasta\"):\n",
    "        print (infile)\n",
    " "
   ]
  },
  {
   "cell_type": "code",
   "execution_count": null,
   "metadata": {
    "collapsed": true
   },
   "outputs": [],
   "source": [
    "import subprocess"
   ]
  },
  {
   "cell_type": "code",
   "execution_count": null,
   "metadata": {
    "collapsed": true
   },
   "outputs": [],
   "source": [
    "for i in infiles:\n",
    "    cmd = \"makeblastdb -in %s -dbtype prot -title %s -out %s\" % (i,i,i)\n",
    "    cmd = cmd.split()\n",
    "    print(cmd)\n",
    "    subprocess.call(cmd)"
   ]
  },
  {
   "cell_type": "code",
   "execution_count": null,
   "metadata": {
    "collapsed": true
   },
   "outputs": [],
   "source": [
    "for i in infiles:\n",
    "    for j in infiles:\n",
    "        print (i,j)\n",
    "        if i != j:\n",
    "            cmd = \"blastp -query %s -db %s -out %s_%s.tab -outfmt 7\" %(i,j,i.split('.')[0],j.split('.')[0])\n",
    "            cmd = cmd.split()\n",
    "            subprocess.call(cmd)"
   ]
  }
 ],
 "metadata": {
  "kernelspec": {
   "display_name": "Python 3",
   "language": "python",
   "name": "python3"
  },
  "language_info": {
   "codemirror_mode": {
    "name": "ipython",
    "version": 3
   },
   "file_extension": ".py",
   "mimetype": "text/x-python",
   "name": "python",
   "nbconvert_exporter": "python",
   "pygments_lexer": "ipython3",
   "version": "3.5.0"
  }
 },
 "nbformat": 4,
 "nbformat_minor": 0
}
