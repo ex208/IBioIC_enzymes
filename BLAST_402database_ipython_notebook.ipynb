{
 "cells": [
  {
   "cell_type": "code",
   "execution_count": 1,
   "metadata": {
    "collapsed": false
   },
   "outputs": [],
   "source": [
    "# add the scripts/libraries for the blast parser into the Python library path\n",
    "import sys\n",
    "\n",
    "\n"
   ]
  },
  {
   "cell_type": "code",
   "execution_count": 2,
   "metadata": {
    "collapsed": false
   },
   "outputs": [
    {
     "name": "stdout",
     "output_type": "stream",
     "text": [
      "/Users/eirinixemantilotou/Documents/PhD/PhD_year1 /Bioinformatics/Identifying_Dickeya_enzymes/RBBH_analysis\r\n"
     ]
    }
   ],
   "source": [
    "!pwd"
   ]
  },
  {
   "cell_type": "code",
   "execution_count": 4,
   "metadata": {
    "collapsed": false
   },
   "outputs": [
    {
     "name": "stdout",
     "output_type": "stream",
     "text": [
      "2015-11-30_lp_notes.md            blast-2.2.24-ia32-linux.tar.gz\r\n",
      "402database.phr                   blastp402_898.out\r\n",
      "402database.pin                   blastp402_898.tab\r\n",
      "402database.psq                   blastp402_898.tsv\r\n",
      "898database.phr                   blastp402_898_comment.tab\r\n",
      "898database.pin                   blastp402_898_query_coverage.tab\r\n",
      "898database.psq                   blastp402_898_tab_comment.out\r\n",
      "NCPPB_402_aa.fasta                blastp898_402.out\r\n",
      "NCPPB_898_aa.fasta                blastp898_402.tsv\r\n",
      "Query_coverage.ipynb              blastp898_402_.tab\r\n",
      "RBBH_table.xlsx                   blastp898_402_comment.tab\r\n",
      "README.md                         blastp898_402_query_coverage.tab\r\n",
      "Untitled.ipynb                    blastp898_402_tab_comment.out\r\n",
      "\u001b[34mblast-2.2.24\u001b[m\u001b[m/                     rbbh_example.ipynb\r\n"
     ]
    }
   ],
   "source": [
    "ls"
   ]
  },
  {
   "cell_type": "code",
   "execution_count": 6,
   "metadata": {
    "collapsed": false
   },
   "outputs": [
    {
     "name": "stdout",
     "output_type": "stream",
     "text": [
      "  % Total    % Received % Xferd  Average Speed   Time    Time     Time  Current\n",
      "                                 Dload  Upload   Total   Spent    Left  Speed\n",
      "100 34.1M  100 34.1M    0     0  1147k      0  0:00:30  0:00:30 --:--:--  974k\n"
     ]
    }
   ],
   "source": [
    "!curl -O ftp://ftp.ncbi.nih.gov/blast/executables/release/2.2.24/blast-2.2.24-ia32-linux.tar.gz\n",
    "!tar xzf blast-2.2.24-ia32-linux.tar.gz\n",
    "!cp blast-2.2.24/bin/* /usr/local/bin\n",
    "!cp -r blast-2.2.24/data /usr/local/blast-data\n",
    "\n",
    "\n"
   ]
  },
  {
   "cell_type": "code",
   "execution_count": 10,
   "metadata": {
    "collapsed": false
   },
   "outputs": [
    {
     "name": "stdout",
     "output_type": "stream",
     "text": [
      ">NCPPB_402_00001 putative_genecall_Prodigal_v2.00\r\n",
      "FLIDLVRVESAVSLSLWQQCLARLQDELPATEFSMWIRPLQAELSDNTLALYAPNRFVLD\r\n",
      "WVRDKYINNINGLLNDFCGLDAPLLRFEVGSKPATPVAVPAGNGSHNAAVAAPQARVASP\r\n",
      "VRPSWETPVALTEHTYRSNVNPKHTFDNFVEGKSNQLARAAARQVADNPGGAYNPLFLYG\r\n",
      "GTGLGKTHLLHAVGNGIMARKPNAKVVYMHSERFVQDMVKALQNNAIEEFKRYYRSVDAL\r\n",
      "LIDDIQFFANKERSQEEFFHTFNALLEGNQQIILTSDRYPKEINGVEDRLKSRFGWGLTV\r\n",
      "AIEPPELETRVAILMKKADENDIRLPGEVAFFIAKRLRSNVRELEGALNRVIANANFTGR\r\n",
      "SITIDFVREALRDLLALQEKLVTIDNIQKTVAEYYKIKVADLLSKRRSRSVARPRQMAMA\r\n",
      "LAKELTNHSLPEIGDAFGGRDHTTVLHACRKIEQLREESHDIKEDFSNLIRTLSS\r\n",
      ">NCPPB_402_00002 putative_genecall_Prodigal_v2.00\r\n"
     ]
    }
   ],
   "source": [
    "!head NCPPB_402_aa.fasta \n"
   ]
  },
  {
   "cell_type": "code",
   "execution_count": 11,
   "metadata": {
    "collapsed": false
   },
   "outputs": [
    {
     "name": "stdout",
     "output_type": "stream",
     "text": [
      ">NCPPB_898_00001 putative_genecall_Prodigal_v2.00\r\n",
      "MADITLISGSTLGSAEYVTEHLESLLQQNNLTTTLLHGPELDEVTPENLWLVVTSTHGAG\r\n",
      "DLPDNLQPFYDDLQTKRPDLSAVRYGAIGIGSSEYDTFCGAIVKVDQLLQDLGARRIGDM\r\n",
      "LKIDITQHDIPEDPAEAWLGSWVNLLK\r\n",
      ">NCPPB_898_00002 putative_genecall_Prodigal_v2.00\r\n",
      "MAADTYTMDELDRGILNALMENARTPYAELAKQFSVSPGTIHVRVEKMKQAGIIVGTRLD\r\n",
      "VNPKQLGYDVCCFIGIILKSAKDYPSAVEKLSNLEEVVEAYYTTGHYSIFIKVMCRSIDA\r\n",
      "LQHVLINKIQTIDEIQSTETLISLQNPIMRTIVP\r\n",
      ">NCPPB_898_00003 putative_genecall_Prodigal_v2.00\r\n",
      "MLTLESLEMLLSIDENDLLDDVIITLMATPQLMMFFDKYPRLKAAVMRDLPEWKENLRQR\r\n"
     ]
    }
   ],
   "source": [
    "!head NCPPB_898_aa.fasta   \n"
   ]
  },
  {
   "cell_type": "code",
   "execution_count": 18,
   "metadata": {
    "collapsed": false
   },
   "outputs": [
    {
     "name": "stdout",
     "output_type": "stream",
     "text": [
      "USAGE\r\n",
      "  blastp [-h] [-help] [-import_search_strategy filename]\r\n",
      "    [-export_search_strategy filename] [-task task_name] [-db database_name]\r\n",
      "    [-dbsize num_letters] [-gilist filename] [-seqidlist filename]\r\n",
      "    [-negative_gilist filename] [-entrez_query entrez_query]\r\n",
      "    [-db_soft_mask filtering_algorithm] [-db_hard_mask filtering_algorithm]\r\n",
      "    [-subject subject_input_file] [-subject_loc range] [-query input_file]\r\n",
      "    [-out output_file] [-evalue evalue] [-word_size int_value]\r\n",
      "    [-gapopen open_penalty] [-gapextend extend_penalty]\r\n",
      "    [-qcov_hsp_perc float_value] [-max_hsps int_value]\r\n",
      "    [-xdrop_ungap float_value] [-xdrop_gap float_value]\r\n",
      "    [-xdrop_gap_final float_value] [-searchsp int_value]\r\n",
      "    [-sum_stats bool_value] [-seg SEG_options] [-soft_masking soft_masking]\r\n",
      "    [-matrix matrix_name] [-threshold float_value] [-culling_limit int_value]\r\n",
      "    [-best_hit_overhang float_value] [-best_hit_score_edge float_value]\r\n",
      "    [-window_size int_value] [-lcase_masking] [-query_loc range]\r\n",
      "    [-parse_deflines] [-outfmt format] [-show_gis]\r\n",
      "    [-num_descriptions int_value] [-num_alignments int_value]\r\n",
      "    [-line_length line_length] [-html] [-max_target_seqs num_sequences]\r\n",
      "    [-num_threads int_value] [-ungapped] [-remote] [-comp_based_stats compo]\r\n",
      "    [-use_sw_tback] [-version]\r\n",
      "\r\n",
      "DESCRIPTION\r\n",
      "   Protein-Protein BLAST 2.2.31+\r\n",
      "\r\n",
      "Use '-help' to print detailed descriptions of command line arguments\r\n",
      "========================================================================\r\n",
      "\r\n",
      "Error: Too many positional arguments (1), the offending value: blastp402_898_ipython.tab\r\n"
     ]
    }
   ],
   "source": [
    "!blastp -query NCPPB_898_aa.fasta   -db NCPPB_402_aa.fasta   -out blast_402database blastp402_898_ipython.tab -outfmt 6\n"
   ]
  },
  {
   "cell_type": "code",
   "execution_count": 19,
   "metadata": {
    "collapsed": false
   },
   "outputs": [
    {
     "name": "stdout",
     "output_type": "stream",
     "text": [
      "USAGE\r\n",
      "  blastp [-h] [-help] [-import_search_strategy filename]\r\n",
      "    [-export_search_strategy filename] [-task task_name] [-db database_name]\r\n",
      "    [-dbsize num_letters] [-gilist filename] [-seqidlist filename]\r\n",
      "    [-negative_gilist filename] [-entrez_query entrez_query]\r\n",
      "    [-db_soft_mask filtering_algorithm] [-db_hard_mask filtering_algorithm]\r\n",
      "    [-subject subject_input_file] [-subject_loc range] [-query input_file]\r\n",
      "    [-out output_file] [-evalue evalue] [-word_size int_value]\r\n",
      "    [-gapopen open_penalty] [-gapextend extend_penalty]\r\n",
      "    [-qcov_hsp_perc float_value] [-max_hsps int_value]\r\n",
      "    [-xdrop_ungap float_value] [-xdrop_gap float_value]\r\n",
      "    [-xdrop_gap_final float_value] [-searchsp int_value]\r\n",
      "    [-sum_stats bool_value] [-seg SEG_options] [-soft_masking soft_masking]\r\n",
      "    [-matrix matrix_name] [-threshold float_value] [-culling_limit int_value]\r\n",
      "    [-best_hit_overhang float_value] [-best_hit_score_edge float_value]\r\n",
      "    [-window_size int_value] [-lcase_masking] [-query_loc range]\r\n",
      "    [-parse_deflines] [-outfmt format] [-show_gis]\r\n",
      "    [-num_descriptions int_value] [-num_alignments int_value]\r\n",
      "    [-line_length line_length] [-html] [-max_target_seqs num_sequences]\r\n",
      "    [-num_threads int_value] [-ungapped] [-remote] [-comp_based_stats compo]\r\n",
      "    [-use_sw_tback] [-version]\r\n",
      "\r\n",
      "DESCRIPTION\r\n",
      "   Protein-Protein BLAST 2.2.31+\r\n",
      "\r\n",
      "OPTIONAL ARGUMENTS\r\n",
      " -h\r\n",
      "   Print USAGE and DESCRIPTION;  ignore all other parameters\r\n",
      " -help\r\n",
      "   Print USAGE, DESCRIPTION and ARGUMENTS; ignore all other parameters\r\n",
      " -version\r\n",
      "   Print version number;  ignore other arguments\r\n",
      "\r\n",
      " *** Input query options\r\n",
      " -query <File_In>\r\n",
      "   Input file name\r\n",
      "   Default = `-'\r\n",
      " -query_loc <String>\r\n",
      "   Location on the query sequence in 1-based offsets (Format: start-stop)\r\n",
      "\r\n",
      " *** General search options\r\n",
      " -task <String, Permissible values: 'blastp' 'blastp-fast' 'blastp-short' >\r\n",
      "   Task to execute\r\n",
      "   Default = `blastp'\r\n",
      " -db <String>\r\n",
      "   BLAST database name\r\n",
      "    * Incompatible with:  subject, subject_loc\r\n",
      " -out <File_Out>\r\n",
      "   Output file name\r",
      "\r\n",
      "   Default = `-'\r\n",
      " -evalue <Real>\r\n",
      "   Expectation value (E) threshold for saving hits \r\n",
      "   Default = `10'\r\n",
      " -word_size <Integer, >=2>\r\n",
      "   Word size for wordfinder algorithm\r\n",
      " -gapopen <Integer>\r\n",
      "   Cost to open a gap\r\n",
      " -gapextend <Integer>\r\n",
      "   Cost to extend a gap\r\n",
      " -matrix <String>\r\n",
      "   Scoring matrix name (normally BLOSUM62)\r\n",
      " -threshold <Real, >=0>\r\n",
      "   Minimum word score such that the word is added to the BLAST lookup table\r\n",
      " -comp_based_stats <String>\r\n",
      "   Use composition-based statistics:\r\n",
      "       D or d: default (equivalent to 2 )\r\n",
      "       0 or F or f: No composition-based statistics\r\n",
      "       1: Composition-based statistics as in NAR 29:2994-3005, 2001\r\n",
      "       2 or T or t : Composition-based score adjustment as in Bioinformatics\r\n",
      "   21:902-911,\r\n",
      "       2005, conditioned on sequence properties\r\n",
      "       3: Composition-based score adjustment as in Bioinformatics 21:902-911,\r\n",
      "       2005, unconditionally\r\n",
      "   Default = `2'\r\n",
      "\r\n",
      " *** BLAST-2-Sequences options\r\n",
      " -subject <File_In>\r\n",
      "   Subject sequence(s) to search\r\n",
      "    * Incompatible with:  db, gilist, seqidlist, negative_gilist,\r\n",
      "   db_soft_mask, db_hard_mask\r\n",
      " -subject_loc <String>\r\n",
      "   Location on the subject sequence in 1-based offsets (Format: start-stop)\r\n",
      "    * Incompatible with:  db, gilist, seqidlist, negative_gilist,\r\n",
      "   db_soft_mask, db_hard_mask, remote\r\n",
      "\r\n",
      " *** Formatting options\r\n",
      " -outfmt <String>\r\n",
      "   alignment view options:\r\n",
      "     0 = pairwise,\r\n",
      "     1 = query-anchored showing identities,\r\n",
      "     2 = query-anchored no identities,\r\n",
      "     3 = flat query-anchored, show identities,\r\n",
      "     4 = flat query-anchored, no identities,\r\n",
      "     5 = XML Blast output,\r\n",
      "     6 = tabular,\r\n",
      "     7 = tabular with comment lines,\r\n",
      "     8 = Text ASN.1,\r\n",
      "     9 = Binary ASN.1,\r\n",
      "    10 = Comma-separated values,\r\n",
      "    11 = BLAST archive format (ASN.1),\r\n",
      "    12 = JSON Seqalign output,\r\n",
      "    13 = JSON Blast output,\r\n",
      "    14 = XML2 Blast output\r\n",
      "   \r\n",
      "   Options 6, 7, and 10 can be additionally configured to produce\r\n",
      "   a custom format specified by space delimited format specifiers.\r\n",
      "   The supported format specifiers are:\r\n",
      "   \t    qseqid means Query Seq-id\r\n",
      "   \t       qgi means Query GI\r\n",
      "   \t      qacc means Query accesion\r\n",
      "   \t   qaccver means Query accesion.version\r\n",
      "   \t      qlen means Query sequence length\r\n",
      "   \t    sseqid means Subject Seq-id\r\n",
      "   \t sallseqid means All subject Seq-id(s), separated by a ';'\r\n",
      "   \t       sgi means Subject GI\r\n",
      "   \t    sallgi means All subject GIs\r\n",
      "   \t      sacc means Subject accession\r\n",
      "   \t   saccver means Subject accession.version\r\n",
      "   \t   sallacc means All subject accessions\r\n",
      "   \t      slen means Subject sequence length\r\n",
      "   \t    qstart means Start of alignment in query\r\n",
      "   \t      qend means End of alignment in query\r\n",
      "   \t    sstart means Start of alignment in subject\r\n",
      "   \t      send means End of alignment in subject\r\n",
      "   \t      qseq means Aligned part of query sequence\r\n",
      "   \t      sseq means Aligned part of subject sequence\r\n",
      "   \t    evalue means Expect value\r\n",
      "   \t  bitscore means Bit score\r\n",
      "   \t     score means Raw score\r\n",
      "   \t    length means Alignment length\r\n",
      "   \t    pident means Percentage of identical matches\r\n",
      "   \t    nident means Number of identical matches\r\n",
      "   \t  mismatch means Number of mismatches\r\n",
      "   \t  positive means Number of positive-scoring matches\r\n",
      "   \t   gapopen means Number of gap openings\r\n",
      "   \t      gaps means Total number of gaps\r\n",
      "   \t      ppos means Percentage of positive-scoring matches\r\n",
      "   \t    frames means Query and subject frames separated by a '/'\r\n",
      "   \t    qframe means Query frame\r\n",
      "   \t    sframe means Subject frame\r\n",
      "   \t      btop means Blast traceback operations (BTOP)\r\n",
      "   \t   staxids means unique Subject Taxonomy ID(s), separated by a ';'\r\n",
      "   \t\t\t (in numerical order)\r\n",
      "   \t sscinames means unique Subject Scientific Name(s), separated by a ';'\r\n",
      "   \t scomnames means unique Subject Common Name(s), separated by a ';'\r\n",
      "   \tsblastnames means unique Subject Blast Name(s), separated by a ';'\r\n",
      "   \t\t\t (in alphabetical order)\r\n",
      "   \tsskingdoms means unique Subject Super Kingdom(s), separated by a ';'\r\n",
      "   \t\t\t (in alphabetical order) \r\n",
      "   \t    stitle means Subject Title\r\n",
      "   \tsalltitles means All Subject Title(s), separated by a '<>'\r\n",
      "   \t   sstrand means Subject Strand\r\n",
      "   \t     qcovs means Query Coverage Per Subject\r\n",
      "   \t   qcovhsp means Query Coverage Per HSP\r\n",
      "   When not provided, the default value is:\r\n",
      "   'qseqid sseqid pident length mismatch gapopen qstart qend sstart send\r\n",
      "   evalue bitscore', which is equivalent to the keyword 'std'\r\n",
      "   Default = `0'\r\n",
      " -show_gis\r\n",
      "   Show NCBI GIs in deflines?\r\n",
      " -num_descriptions <Integer, >=0>\r\n",
      "   Number of database sequences to show one-line descriptions for\r\n",
      "   Not applicable for outfmt > 4\r\n",
      "   Default = `500'\r\n",
      "    * Incompatible with:  max_target_seqs\r\n",
      " -num_alignments <Integer, >=0>\r\n",
      "   Number of database sequences to show alignments for\r\n",
      "   Default = `250'\r\n",
      "    * Incompatible with:  max_target_seqs\r\n",
      " -line_length <Integer, >=1>\r\n",
      "   Line length for formatting alignments\r\n",
      "   Not applicable for outfmt > 4\r\n",
      "   Default = `60'\r\n",
      " -html\r\n",
      "   Produce HTML output?\r\n",
      "\r\n",
      " *** Query filtering options\r\n",
      " -seg <String>\r\n",
      "   Filter query sequence with SEG (Format: 'yes', 'window locut hicut', or\r\n",
      "   'no' to disable)\r\n",
      "   Default = `no'\r\n",
      " -soft_masking <Boolean>\r\n",
      "   Apply filtering locations as soft masks\r\n",
      "   Default = `false'\r\n",
      " -lcase_masking\r\n",
      "   Use lower case filtering in query and subject sequence(s)?\r\n",
      "\r\n",
      " *** Restrict search or results\r\n",
      " -gilist <String>\r\n",
      "   Restrict search of database to list of GI's\r\n",
      "    * Incompatible with:  negative_gilist, seqidlist, remote, subject,\r\n",
      "   subject_loc\r\n",
      " -seqidlist <String>\r\n",
      "   Restrict search of database to list of SeqId's\r\n",
      "    * Incompatible with:  gilist, negative_gilist, remote, subject,\r\n",
      "   subject_loc\r\n",
      " -negative_gilist <String>\r\n",
      "   Restrict search of database to everything except the listed GIs\r\n",
      "    * Incompatible with:  gilist, seqidlist, remote, subject, subject_loc\r\n",
      " -entrez_query <String>\r\n",
      "   Restrict search with the given Entrez query\r\n",
      "    * Requires:  remote\r\n",
      " -db_soft_mask <String>\r\n",
      "   Filtering algorithm ID to apply to the BLAST database as soft masking\r\n",
      "    * Incompatible with:  db_hard_mask, subject, subject_loc\r\n",
      " -db_hard_mask <String>\r\n",
      "   Filtering algorithm ID to apply to the BLAST database as hard masking\r\n",
      "    * Incompatible with:  db_soft_mask, subject, subject_loc\r\n",
      " -qcov_hsp_perc <Real, 0..100>\r\n",
      "   Percent query coverage per hsp\r\n",
      " -max_hsps <Integer, >=1>\r\n",
      "   Set maximum number of HSPs per subject sequence to save for each query\r\n",
      " -culling_limit <Integer, >=0>\r\n",
      "   If the query range of a hit is enveloped by that of at least this many\r\n",
      "   higher-scoring hits, delete the hit\r\n",
      "    * Incompatible with:  best_hit_overhang, best_hit_score_edge\r\n",
      " -best_hit_overhang <Real, (>0 and <0.5)>\r\n",
      "   Best Hit algorithm overhang value (recommended value: 0.1)\r\n",
      "    * Incompatible with:  culling_limit\r\n",
      " -best_hit_score_edge <Real, (>0 and <0.5)>\r\n",
      "   Best Hit algorithm score edge value (recommended value: 0.1)\r\n",
      "    * Incompatible with:  culling_limit\r\n",
      " -max_target_seqs <Integer, >=1>\r\n",
      "   Maximum number of aligned sequences to keep \r\n",
      "   Not applicable for outfmt <= 4\r\n",
      "   Default = `500'\r\n",
      "    * Incompatible with:  num_descriptions, num_alignments\r\n",
      "\r\n",
      " *** Statistical options\r\n",
      " -dbsize <Int8>\r\n",
      "   Effective length of the database \r\n",
      " -searchsp <Int8, >=0>\r\n",
      "   Effective length of the search space\r\n",
      " -sum_stats <Boolean>\r\n",
      "   Use sum statistics\r\n",
      "\r\n",
      " *** Search strategy options\r\n",
      " -import_search_strategy <File_In>\r\n",
      "   Search strategy to use\r\n",
      "    * Incompatible with:  export_search_strategy\r\n",
      " -export_search_strategy <File_Out>\r\n",
      "   File name to record the search strategy used\r\n",
      "    * Incompatible with:  import_search_strategy\r\n",
      "\r\n",
      " *** Extension options\r\n",
      " -xdrop_ungap <Real>\r\n",
      "   X-dropoff value (in bits) for ungapped extensions\r\n",
      " -xdrop_gap <Real>\r\n",
      "   X-dropoff value (in bits) for preliminary gapped extensions\r\n",
      " -xdrop_gap_final <Real>\r\n",
      "   X-dropoff value (in bits) for final gapped alignment\r\n",
      " -window_size <Integer, >=0>\r\n",
      "   Multiple hits window size, use 0 to specify 1-hit algorithm\r\n",
      " -ungapped\r\n",
      "   Perform ungapped alignment only?\r\n",
      "\r\n",
      " *** Miscellaneous options\r\n",
      " -parse_deflines\r\n",
      "   Should the query and subject defline(s) be parsed?\r\n",
      " -num_threads <Integer, >=1>\r\n",
      "   Number of threads (CPUs) to use in the BLAST search\r\n",
      "   Default = `1'\r\n",
      "    * Incompatible with:  remote\r\n",
      " -remote\r\n",
      "   Execute search remotely?\r\n",
      "    * Incompatible with:  gilist, seqidlist, negative_gilist, subject_loc,\r\n",
      "   num_threads\r\n",
      " -use_sw_tback\r\n",
      "   Compute locally optimal Smith-Waterman alignments?\r\n",
      "\r\n"
     ]
    }
   ],
   "source": [
    "!blastp -help"
   ]
  },
  {
   "cell_type": "code",
   "execution_count": null,
   "metadata": {
    "collapsed": true
   },
   "outputs": [],
   "source": []
  }
 ],
 "metadata": {
  "kernelspec": {
   "display_name": "Python 3",
   "language": "python",
   "name": "python3"
  },
  "language_info": {
   "codemirror_mode": {
    "name": "ipython",
    "version": 3
   },
   "file_extension": ".py",
   "mimetype": "text/x-python",
   "name": "python",
   "nbconvert_exporter": "python",
   "pygments_lexer": "ipython3",
   "version": "3.5.0"
  }
 },
 "nbformat": 4,
 "nbformat_minor": 0
}
